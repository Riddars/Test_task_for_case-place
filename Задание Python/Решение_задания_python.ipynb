{
  "nbformat": 4,
  "nbformat_minor": 0,
  "metadata": {
    "colab": {
      "provenance": []
    },
    "kernelspec": {
      "name": "python3",
      "display_name": "Python 3"
    },
    "language_info": {
      "name": "python"
    }
  },
  "cells": [
    {
      "cell_type": "code",
      "execution_count": 51,
      "metadata": {
        "id": "GSHyOd7pCcps"
      },
      "outputs": [],
      "source": [
        "import pandas as pd\n",
        "import numpy as np"
      ]
    },
    {
      "cell_type": "markdown",
      "source": [
        "Задание 0. Определить вероятность выпадения цифры 8 на десятом броске 9-гранного кубика. Ответ укажите в комментариях в файле ipynb, где буду выполняться следующие задания.\n",
        "\n",
        "---\n",
        " 1/9 = 0.1111... (примерно 11.11%)\n",
        "Поскольку броски независимы, вероятность выпадения конкретной цифры одинакова для любого броска"
      ],
      "metadata": {
        "id": "p-BLEjJ4KbTO"
      }
    },
    {
      "cell_type": "markdown",
      "source": [
        "Задание 1.0: Импорт всех необходимых данных"
      ],
      "metadata": {
        "id": "bfmHP25vLLRf"
      }
    },
    {
      "cell_type": "code",
      "source": [
        "file_path = 'Данные для задания Python.xlsx'\n",
        "\n",
        "task1 = pd.read_excel(file_path, sheet_name='Задание1')\n",
        "\n",
        "# Для отчетов о продажах нужно задать имена столбцов\n",
        "column_names = [\n",
        "    'Бренд', 'Предмет', 'Сезон', 'Коллекция', 'Наименование',\n",
        "    'Номенклатура', 'Размер', 'Склад',\n",
        "    'Поступления_шт', 'Поступления_себестоимость',\n",
        "    'Заказано_шт', 'Заказано_себестоимость',\n",
        "    'Выкупили_шт', 'Выкупили_руб', 'Текущий_остаток_шт'\n",
        "]\n",
        "\n",
        "# Читаем отчеты с пропуском первых двух строк, которые содержат заголовки\n",
        "ivanov_sales = pd.read_excel(file_path, sheet_name='Отчет о продажах ИП Иванов', skiprows=2, header=None, names=column_names)\n",
        "petrov_sales = pd.read_excel(file_path, sheet_name='Отчет о продажах ИП Петров', skiprows=2, header=None, names=column_names)\n",
        "sidorov_sales = pd.read_excel(file_path, sheet_name='Отчет о продажах ИП Сидоров', skiprows=2, header=None, names=column_names)\n",
        "\n",
        "cost_table = pd.read_excel(file_path, sheet_name='Себестоимость')\n",
        "reference = pd.read_excel(file_path, sheet_name='Справочник')"
      ],
      "metadata": {
        "id": "DjAvRQj9K413"
      },
      "execution_count": 52,
      "outputs": []
    },
    {
      "cell_type": "code",
      "source": [
        "print(\"\\nЗадание 1\")\n",
        "print(task1.head())\n",
        "\n",
        "print(\"\\nОтчет Иванова\")\n",
        "print(ivanov_sales.head())\n",
        "\n",
        "print(\"\\nТаблица себестоимости\")\n",
        "print(cost_table)\n",
        "\n",
        "print(\"\\nСправочник категорий\")\n",
        "print(reference.head())"
      ],
      "metadata": {
        "colab": {
          "base_uri": "https://localhost:8080/"
        },
        "id": "-81LZ5OdJVjn",
        "outputId": "c654c47c-912a-4814-d15f-a58b8059da97"
      },
      "execution_count": 53,
      "outputs": [
        {
          "output_type": "stream",
          "name": "stdout",
          "text": [
            "\n",
            "Задание 1\n",
            "   Номенклатура  ИП  Заказы, шт.  Выручка, руб.  Прибыль, руб.  \\\n",
            "0      22740348 NaN          NaN            NaN            NaN   \n",
            "1      27708426 NaN          NaN            NaN            NaN   \n",
            "2      35217579 NaN          NaN            NaN            NaN   \n",
            "3      74417961 NaN          NaN            NaN            NaN   \n",
            "4      22740351 NaN          NaN            NaN            NaN   \n",
            "\n",
            "   Рентабельность, %  \n",
            "0                NaN  \n",
            "1                NaN  \n",
            "2                NaN  \n",
            "3                NaN  \n",
            "4                NaN  \n",
            "\n",
            "Отчет Иванова\n",
            "        Бренд              Предмет Сезон Коллекция  \\\n",
            "0  IvanovCase  Чехлы для телефонов   NaN       NaN   \n",
            "1  IvanovCase  Чехлы для телефонов   NaN       NaN   \n",
            "2  IvanovCase  Чехлы для телефонов   NaN       NaN   \n",
            "3  IvanovCase  Чехлы для телефонов   NaN       NaN   \n",
            "4  IvanovCase  Чехлы для телефонов   NaN       NaN   \n",
            "\n",
            "                                        Наименование  Номенклатура  Размер  \\\n",
            "0  Силиконовый чехол на Айфон 4 / Айфон 4s (iPhon...      22740336       0   \n",
            "1  Силиконовый чехол на Айфон 4 / Айфон 4s (iPhon...      22740336       0   \n",
            "2  Силиконовый чехол на Айфон 5 / Айфон 5S / Айфо...      22740339       0   \n",
            "3  Силиконовый чехол на Айфон 5 / Айфон 5S / Айфо...      22740339       0   \n",
            "4  Силиконовый чехол на Айфон 5 / Айфон 5S / Айфо...      22740339       0   \n",
            "\n",
            "      Склад  Поступления_шт  Поступления_себестоимость  Заказано_шт  \\\n",
            "0  Подольск               0                          0            0   \n",
            "1    Казань               0                          0            1   \n",
            "2  Подольск               0                          0            8   \n",
            "3  Подольск               0                          0            0   \n",
            "4    Казань               0                          0            4   \n",
            "\n",
            "   Заказано_себестоимость  Выкупили_шт  Выкупили_руб  Текущий_остаток_шт  \n",
            "0                    0.00            1        195.11                  24  \n",
            "1                  179.64            1        195.11                  32  \n",
            "2                 1365.28            3        511.97                  99  \n",
            "3                    0.00            1        197.60                   0  \n",
            "4                  682.64            1        197.60                  47  \n",
            "\n",
            "Таблица себестоимости\n",
            "                             Категория  Фиксированные затраты, руб./шт.\n",
            "0                     Печатный силикон                            172.3\n",
            "1                     Печатный глиттер                            286.3\n",
            "2                     Печатный матовый                            182.3\n",
            "3              Печатный противоударный                            191.8\n",
            "4                      Печатные книжки                            342.4\n",
            "..                                 ...                              ...\n",
            "83     Пластиковые чехлы для планшетов                            539.0\n",
            "84  Противоударные чехлы для планшетов                            294.2\n",
            "85     Силиконовые чехлы для планшетов                            540.8\n",
            "86                         AirTag кожа                            414.8\n",
            "87                      AirTag силикон                            234.9\n",
            "\n",
            "[88 rows x 2 columns]\n",
            "\n",
            "Справочник категорий\n",
            "   Номенклатура          Категория\n",
            "0      22740336  Силиконовые чехлы\n",
            "1      22740339  Силиконовые чехлы\n",
            "2      22740342  Силиконовые чехлы\n",
            "3      22740345  Силиконовые чехлы\n",
            "4      22740348  Силиконовые чехлы\n"
          ]
        }
      ]
    },
    {
      "cell_type": "markdown",
      "source": [
        "Задание 1.1: Определить к какому ИП относится номенклатура"
      ],
      "metadata": {
        "id": "sGj6zc4sLPQ_"
      }
    },
    {
      "cell_type": "code",
      "source": [
        "# Задание 1.1 - Определяем к какому ИП относится номенклатура\n",
        "def get_ip_for_nomenclature(nomenclature):\n",
        "    in_ivanov = nomenclature in ivanov_sales['Номенклатура'].values\n",
        "    in_petrov = nomenclature in petrov_sales['Номенклатура'].values\n",
        "    in_sidorov = nomenclature in sidorov_sales['Номенклатура'].values\n",
        "\n",
        "    if in_ivanov and not in_petrov and not in_sidorov:\n",
        "        return 'Иванов'\n",
        "    elif not in_ivanov and in_petrov and not in_sidorov:\n",
        "        return 'Петров'\n",
        "    elif not in_ivanov and not in_petrov and in_sidorov:\n",
        "        return 'Сидоров'\n",
        "    elif in_ivanov or in_petrov or in_sidorov:\n",
        "        # Если номенклатура встречается у нескольких ИП, берем первого\n",
        "        if in_ivanov:\n",
        "            return 'Иванов'\n",
        "        elif in_petrov:\n",
        "            return 'Петров'\n",
        "        else:\n",
        "            return 'Сидоров'\n",
        "    else:\n",
        "        return '-'\n",
        "\n",
        "task1['ИП'] = task1['Номенклатура'].apply(get_ip_for_nomenclature)\n"
      ],
      "metadata": {
        "id": "zFUmlkRBLPsv"
      },
      "execution_count": 54,
      "outputs": []
    },
    {
      "cell_type": "code",
      "source": [
        "print(task1[['Номенклатура', 'ИП']].head(10))"
      ],
      "metadata": {
        "colab": {
          "base_uri": "https://localhost:8080/"
        },
        "id": "mRhHX8z2JpOo",
        "outputId": "1e76571e-b2b2-4ba1-bc3c-52e0052220ce"
      },
      "execution_count": 55,
      "outputs": [
        {
          "output_type": "stream",
          "name": "stdout",
          "text": [
            "   Номенклатура      ИП\n",
            "0      22740348  Иванов\n",
            "1      27708426  Иванов\n",
            "2      35217579  Иванов\n",
            "3      74417961  Петров\n",
            "4      22740351  Иванов\n",
            "5      23515101  Иванов\n",
            "6      30393654  Иванов\n",
            "7      23828211  Иванов\n",
            "8      22740462  Иванов\n",
            "9      24568431  Иванов\n"
          ]
        }
      ]
    },
    {
      "cell_type": "markdown",
      "source": [
        "Задание 1.2: Посчитать количество заказов по каждой номенклатуре"
      ],
      "metadata": {
        "id": "RNu0JfFYLUae"
      }
    },
    {
      "cell_type": "code",
      "source": [
        "def get_orders_for_nomenclature(nomenclature):\n",
        "    orders = 0\n",
        "\n",
        "    # Суммируем заказы из отчета Иванова\n",
        "    if nomenclature in ivanov_sales['Номенклатура'].values:\n",
        "        orders += ivanov_sales[ivanov_sales['Номенклатура'] == nomenclature]['Заказано_шт'].sum()\n",
        "\n",
        "    # Суммируем заказы из отчета Петрова\n",
        "    if nomenclature in petrov_sales['Номенклатура'].values:\n",
        "        orders += petrov_sales[petrov_sales['Номенклатура'] == nomenclature]['Заказано_шт'].sum()\n",
        "\n",
        "    # Суммируем заказы из отчета Сидорова\n",
        "    if nomenclature in sidorov_sales['Номенклатура'].values:\n",
        "        orders += sidorov_sales[sidorov_sales['Номенклатура'] == nomenclature]['Заказано_шт'].sum()\n",
        "\n",
        "    return orders\n",
        "\n",
        "task1['Заказы, шт.'] = task1['Номенклатура'].apply(get_orders_for_nomenclature)\n"
      ],
      "metadata": {
        "id": "SWt9bUWiLRyf"
      },
      "execution_count": 56,
      "outputs": []
    },
    {
      "cell_type": "code",
      "source": [
        "print(task1[['Номенклатура', 'ИП', 'Заказы, шт.']].head(10))"
      ],
      "metadata": {
        "colab": {
          "base_uri": "https://localhost:8080/"
        },
        "id": "O9aP44UOJwYe",
        "outputId": "d792aa4d-3318-4eeb-8efa-fc9b339b3cf9"
      },
      "execution_count": 57,
      "outputs": [
        {
          "output_type": "stream",
          "name": "stdout",
          "text": [
            "   Номенклатура      ИП  Заказы, шт.\n",
            "0      22740348  Иванов            6\n",
            "1      27708426  Иванов            3\n",
            "2      35217579  Иванов            5\n",
            "3      74417961  Петров            6\n",
            "4      22740351  Иванов           15\n",
            "5      23515101  Иванов            3\n",
            "6      30393654  Иванов           26\n",
            "7      23828211  Иванов            4\n",
            "8      22740462  Иванов           19\n",
            "9      24568431  Иванов           10\n"
          ]
        }
      ]
    },
    {
      "cell_type": "markdown",
      "source": [
        "Задание 1.3: Посчитать выручку по каждой номенклатуре"
      ],
      "metadata": {
        "id": "XpdoJ168LXS-"
      }
    },
    {
      "cell_type": "code",
      "source": [
        "def get_revenue_for_nomenclature(nomenclature):\n",
        "    revenue = 0\n",
        "\n",
        "    # \"Заказано, себестоимость\" составляет 83% от выручки, поэтому делим на 0.83\n",
        "    if nomenclature in ivanov_sales['Номенклатура'].values:\n",
        "        revenue += ivanov_sales[ivanov_sales['Номенклатура'] == nomenclature]['Заказано_себестоимость'].sum() / 0.83\n",
        "\n",
        "    if nomenclature in petrov_sales['Номенклатура'].values:\n",
        "        revenue += petrov_sales[petrov_sales['Номенклатура'] == nomenclature]['Заказано_себестоимость'].sum() / 0.83\n",
        "\n",
        "    if nomenclature in sidorov_sales['Номенклатура'].values:\n",
        "        revenue += sidorov_sales[sidorov_sales['Номенклатура'] == nomenclature]['Заказано_себестоимость'].sum() / 0.83\n",
        "\n",
        "    return round(revenue, 2)\n",
        "\n",
        "task1['Выручка, руб.'] = task1['Номенклатура'].apply(get_revenue_for_nomenclature)\n"
      ],
      "metadata": {
        "id": "pW264WeNLYc3"
      },
      "execution_count": 58,
      "outputs": []
    },
    {
      "cell_type": "code",
      "source": [
        "print(task1[['Номенклатура', 'ИП', 'Заказы, шт.', 'Выручка, руб.']].head(10))"
      ],
      "metadata": {
        "colab": {
          "base_uri": "https://localhost:8080/"
        },
        "id": "gkN96BXPJ0mO",
        "outputId": "c6dd1e67-1086-4109-9000-a8556243e250"
      },
      "execution_count": 59,
      "outputs": [
        {
          "output_type": "stream",
          "name": "stdout",
          "text": [
            "   Номенклатура      ИП  Заказы, шт.  Выручка, руб.\n",
            "0      22740348  Иванов            6        1168.77\n",
            "1      27708426  Иванов            3         486.98\n",
            "2      35217579  Иванов            5         865.72\n",
            "3      74417961  Петров            6        1165.16\n",
            "4      22740351  Иванов           15        2921.93\n",
            "5      23515101  Иванов            3         459.90\n",
            "6      30393654  Иванов           26        5627.28\n",
            "7      23828211  Иванов            4         735.86\n",
            "8      22740462  Иванов           19        3701.11\n",
            "9      24568431  Иванов           10        1947.95\n"
          ]
        }
      ]
    },
    {
      "cell_type": "markdown",
      "source": [
        "Задание 1.4: Посчитать прибыль по каждой номенклатуре"
      ],
      "metadata": {
        "id": "-PJFzaB3LacY"
      }
    },
    {
      "cell_type": "code",
      "source": [
        "# Задание 1.4 - Считаем прибыль по каждой номенклатуре\n",
        "# Находим минимальные фиксированные затраты\n",
        "min_fixed_cost = cost_table['Фиксированные затраты, руб./шт.'].min()\n",
        "\n",
        "# Создаем словари для категорий и затрат\n",
        "fixed_costs_dict = dict(zip(cost_table['Категория'], cost_table['Фиксированные затраты, руб./шт.']))\n",
        "category_dict = dict(zip(reference['Номенклатура'], reference['Категория']))\n",
        "\n",
        "def calculate_profit(row):\n",
        "    ip = row['ИП']\n",
        "    revenue = row['Выручка, руб.']\n",
        "    orders = row['Заказы, шт.']\n",
        "    nomenclature = row['Номенклатура']\n",
        "\n",
        "    if revenue == 0:\n",
        "        return 0\n",
        "\n",
        "    # Определяем налоговую ставку в зависимости от ИП\n",
        "    if ip == 'Иванов':\n",
        "        tax_rate = 0.01\n",
        "    elif ip == 'Петров':\n",
        "        tax_rate = 0.03\n",
        "    elif ip == 'Сидоров':\n",
        "        tax_rate = 0.05\n",
        "    else:\n",
        "        tax_rate = 0\n",
        "\n",
        "    # Определяем категорию товара и фиксированные затраты\n",
        "    category = category_dict.get(nomenclature, None)\n",
        "    if category:\n",
        "        fixed_cost = fixed_costs_dict.get(category, min_fixed_cost)\n",
        "    else:\n",
        "        fixed_cost = min_fixed_cost\n",
        "\n",
        "    # Рассчитываем затраты\n",
        "    commission = 0.17 * revenue  # Комиссия 17% от выручки\n",
        "    tax = tax_rate * revenue  # Налог в зависимости от ИП\n",
        "    fixed_costs = fixed_cost * orders  # Фиксированные затраты\n",
        "\n",
        "    total_costs = commission + tax + fixed_costs\n",
        "    profit = revenue - total_costs\n",
        "\n",
        "    return round(profit, 2)\n",
        "\n",
        "task1['Прибыль, руб.'] = task1.apply(calculate_profit, axis=1)"
      ],
      "metadata": {
        "id": "8esPbxkWLa7O"
      },
      "execution_count": 60,
      "outputs": []
    },
    {
      "cell_type": "code",
      "source": [
        "# Отображаем результаты задания 1.4\n",
        "print(\"\\nЗадание 1.4 - Прибыль по номенклатурам:\")\n",
        "print(task1[['Номенклатура', 'ИП', 'Заказы, шт.', 'Выручка, руб.', 'Прибыль, руб.']].head(10))"
      ],
      "metadata": {
        "colab": {
          "base_uri": "https://localhost:8080/"
        },
        "id": "s11LaeBkJ3rF",
        "outputId": "76c95944-6470-4127-c4b2-118d705b390f"
      },
      "execution_count": 61,
      "outputs": [
        {
          "output_type": "stream",
          "name": "stdout",
          "text": [
            "\n",
            "Задание 1.4 - Прибыль по номенклатурам:\n",
            "   Номенклатура      ИП  Заказы, шт.  Выручка, руб.  Прибыль, руб.\n",
            "0      22740348  Иванов            6        1168.77          37.99\n",
            "1      27708426  Иванов            3         486.98         -60.88\n",
            "2      35217579  Иванов            5         865.72         -57.11\n",
            "3      74417961  Петров            6        1165.16          11.73\n",
            "4      22740351  Иванов           15        2921.93          94.98\n",
            "5      23515101  Иванов            3         459.90         -83.08\n",
            "6      30393654  Иванов           26        5627.28         625.97\n",
            "7      23828211  Иванов            4         735.86         -10.19\n",
            "8      22740462  Иванов           19        3701.11         120.31\n",
            "9      24568431  Иванов           10        1947.95         247.32\n"
          ]
        }
      ]
    },
    {
      "cell_type": "markdown",
      "source": [
        "Задание 1.5: Посчитать рентабельность продаж по каждой номенклатуре"
      ],
      "metadata": {
        "id": "VPt0Eyi-LeG3"
      }
    },
    {
      "cell_type": "code",
      "source": [
        "# Задание 1.5 - Считаем рентабельность продаж\n",
        "def calculate_profitability(row):\n",
        "    if row['Выручка, руб.'] == 0:\n",
        "        return 0\n",
        "    return round((row['Прибыль, руб.'] / row['Выручка, руб.']) * 100, 2)\n",
        "\n",
        "task1['Рентабельность, %'] = task1.apply(calculate_profitability, axis=1)\n"
      ],
      "metadata": {
        "id": "GZStsArfLfc2"
      },
      "execution_count": 62,
      "outputs": []
    },
    {
      "cell_type": "code",
      "source": [
        "print(task1.head(10))"
      ],
      "metadata": {
        "colab": {
          "base_uri": "https://localhost:8080/"
        },
        "id": "wPjrzBQKKAxm",
        "outputId": "acebcc11-519d-4258-9922-b51c51058a47"
      },
      "execution_count": 63,
      "outputs": [
        {
          "output_type": "stream",
          "name": "stdout",
          "text": [
            "   Номенклатура      ИП  Заказы, шт.  Выручка, руб.  Прибыль, руб.  \\\n",
            "0      22740348  Иванов            6        1168.77          37.99   \n",
            "1      27708426  Иванов            3         486.98         -60.88   \n",
            "2      35217579  Иванов            5         865.72         -57.11   \n",
            "3      74417961  Петров            6        1165.16          11.73   \n",
            "4      22740351  Иванов           15        2921.93          94.98   \n",
            "5      23515101  Иванов            3         459.90         -83.08   \n",
            "6      30393654  Иванов           26        5627.28         625.97   \n",
            "7      23828211  Иванов            4         735.86         -10.19   \n",
            "8      22740462  Иванов           19        3701.11         120.31   \n",
            "9      24568431  Иванов           10        1947.95         247.32   \n",
            "\n",
            "   Рентабельность, %  \n",
            "0               3.25  \n",
            "1             -12.50  \n",
            "2              -6.60  \n",
            "3               1.01  \n",
            "4               3.25  \n",
            "5             -18.06  \n",
            "6              11.12  \n",
            "7              -1.38  \n",
            "8               3.25  \n",
            "9              12.70  \n"
          ]
        }
      ]
    },
    {
      "cell_type": "markdown",
      "source": [
        "Задание 1.6: Выполнить экспорт получившейся таблицы в формате xlsx"
      ],
      "metadata": {
        "id": "akBiDBHwLgLn"
      }
    },
    {
      "cell_type": "code",
      "source": [
        "output_path = 'Задание 1.xlsx'\n",
        "task1.to_excel(output_path, sheet_name='Таблица', index=False)\n"
      ],
      "metadata": {
        "id": "Cjvk_skYLieO"
      },
      "execution_count": 64,
      "outputs": []
    },
    {
      "cell_type": "markdown",
      "source": [
        "Задание 1.7: Построить сводную таблицу"
      ],
      "metadata": {
        "id": "uRDPFzj0LlIP"
      }
    },
    {
      "cell_type": "code",
      "source": [
        "pivot_table = pd.pivot_table(\n",
        "    task1,\n",
        "    index='ИП',\n",
        "    values=['Заказы, шт.', 'Выручка, руб.', 'Прибыль, руб.'],\n",
        "    aggfunc='sum'\n",
        ")\n",
        "\n",
        "print(\"Сводная таблица:\")\n",
        "print(pivot_table)"
      ],
      "metadata": {
        "id": "mvYG9BqRLlj2",
        "colab": {
          "base_uri": "https://localhost:8080/"
        },
        "outputId": "10981f21-7f3a-46b5-bab1-a41089e249e8"
      },
      "execution_count": 65,
      "outputs": [
        {
          "output_type": "stream",
          "name": "stdout",
          "text": [
            "Сводная таблица:\n",
            "         Выручка, руб.  Заказы, шт.  Прибыль, руб.\n",
            "ИП                                                \n",
            "-                 0.00            0           0.00\n",
            "Иванов       238766.31         1078       10048.72\n",
            "Петров       119762.71          441        7679.92\n",
            "Сидоров        3185.27           15          64.10\n"
          ]
        }
      ]
    }
  ]
}